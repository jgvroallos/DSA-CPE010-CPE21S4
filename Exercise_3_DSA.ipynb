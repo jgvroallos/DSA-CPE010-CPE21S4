{
  "nbformat": 4,
  "nbformat_minor": 0,
  "metadata": {
    "colab": {
      "provenance": [],
      "toc_visible": true,
      "authorship_tag": "ABX9TyMwV5KK2tdF6E4/L82Yvf9N",
      "include_colab_link": true
    },
    "kernelspec": {
      "name": "python3",
      "display_name": "Python 3"
    },
    "language_info": {
      "name": "python"
    }
  },
  "cells": [
    {
      "cell_type": "markdown",
      "metadata": {
        "id": "view-in-github",
        "colab_type": "text"
      },
      "source": [
        "<a href=\"https://colab.research.google.com/github/jgvroallos/DSA-CPE010-CPE21S4/blob/main/Exercise_3_DSA.ipynb\" target=\"_parent\"><img src=\"https://colab.research.google.com/assets/colab-badge.svg\" alt=\"Open In Colab\"/></a>"
      ]
    },
    {
      "cell_type": "markdown",
      "source": [
        "# Algorithm for Getting Area of a Circle"
      ],
      "metadata": {
        "id": "vQ3F13TNr6tq"
      }
    },
    {
      "cell_type": "code",
      "execution_count": 15,
      "metadata": {
        "colab": {
          "base_uri": "https://localhost:8080/"
        },
        "id": "dGTUVoh7ruX_",
        "outputId": "9608910b-81ff-4676-f48a-dab1941ea1a4"
      },
      "outputs": [
        {
          "output_type": "stream",
          "name": "stdout",
          "text": [
            "What is the given unit? [1] Radius, [2] Diameter: 1\n",
            "Enter value: 5\n",
            "Area is  78.53981633974483\n"
          ]
        }
      ],
      "source": [
        "#Area-Circle - A = pi*r**2\n",
        "\n",
        "pi = 3.141592653589793\n",
        "\n",
        "def Radius(r):\n",
        "    return pi*r**2\n",
        "\n",
        "def Diameter(d):\n",
        "    return pi*(d/2)**2\n",
        "\n",
        "filter = input(\"What is the given unit? [1] Radius, [2] Diameter: \")\n",
        "value = input(\"Enter value: \")\n",
        "\n",
        "if filter == '1':\n",
        "    r = float(value)\n",
        "    print(\"Area is \", Radius(r))\n",
        "elif filter == '2':\n",
        "    d = float(value)\n",
        "    print(\"Area is \", Diameter(d))\n",
        "else:\n",
        "    print(\"Invalid input.\")"
      ]
    },
    {
      "cell_type": "code",
      "source": [
        "#Area-Circle - A = pi*r**2\n",
        "\n",
        "pi = 3.141592653589793\n",
        "\n",
        "def Radius(r):\n",
        "    return pi*r**2\n",
        "\n",
        "def Diameter(d):\n",
        "    return pi*(d/2)**2\n",
        "\n",
        "filter = input(\"What is the given unit? [1] Radius, [2] Diameter: \")\n",
        "value = input(\"Enter value: \")\n",
        "\n",
        "if filter == '1':\n",
        "    r = float(value)\n",
        "    print(\"Area is \", Radius(r))\n",
        "elif filter == '2':\n",
        "    d = float(value)\n",
        "    print(\"Area is \", Diameter(d))\n",
        "else:\n",
        "    print(\"Invalid input.\")"
      ],
      "metadata": {
        "colab": {
          "base_uri": "https://localhost:8080/"
        },
        "id": "yiakJUY0wHfY",
        "outputId": "41616adc-ced7-4085-e625-754bc0016aed"
      },
      "execution_count": 14,
      "outputs": [
        {
          "output_type": "stream",
          "name": "stdout",
          "text": [
            "What is the given unit? [1] Radius, [2] Diameter: 2\n",
            "Enter value: 10\n",
            "Area is  78.53981633974483\n"
          ]
        }
      ]
    },
    {
      "cell_type": "markdown",
      "source": [
        "# Arrays"
      ],
      "metadata": {
        "id": "UAWETpevwhMw"
      }
    },
    {
      "cell_type": "markdown",
      "source": [
        "Accessing the Elements in the Array"
      ],
      "metadata": {
        "id": "XcBuuLpoxOWK"
      }
    },
    {
      "cell_type": "code",
      "source": [
        "animals = [\"cat\", \"dog\", \"fish\"]\n",
        "x = animals[0]\n",
        "print(x)"
      ],
      "metadata": {
        "colab": {
          "base_uri": "https://localhost:8080/"
        },
        "id": "SorFdXTHxNwU",
        "outputId": "7b0e17a8-a681-413a-a4a0-8bd61a430779"
      },
      "execution_count": 17,
      "outputs": [
        {
          "output_type": "stream",
          "name": "stdout",
          "text": [
            "cat\n"
          ]
        }
      ]
    },
    {
      "cell_type": "markdown",
      "source": [
        "Modifying Elements in the Array"
      ],
      "metadata": {
        "id": "97YIo2kixuVu"
      }
    },
    {
      "cell_type": "code",
      "source": [
        "animals = [\"cat\", \"dog\", \"fish\"]\n",
        "animals[0] = \"monkey\"\n",
        "print(animals)"
      ],
      "metadata": {
        "colab": {
          "base_uri": "https://localhost:8080/"
        },
        "id": "yW8QfsNzw8Jq",
        "outputId": "fa1a8840-bb2c-40e2-9322-0aed55570125"
      },
      "execution_count": 18,
      "outputs": [
        {
          "output_type": "stream",
          "name": "stdout",
          "text": [
            "['monkey', 'dog', 'fish']\n"
          ]
        }
      ]
    },
    {
      "cell_type": "markdown",
      "source": [
        "Identify Length of Array"
      ],
      "metadata": {
        "id": "PRwwtQ6Ox5Ui"
      }
    },
    {
      "cell_type": "code",
      "source": [
        "animals = [\"monkey\",\"cat\", \"dog\", \"fish\"]\n",
        "x = len(animals)\n",
        "print(x)"
      ],
      "metadata": {
        "colab": {
          "base_uri": "https://localhost:8080/"
        },
        "id": "vHBX4j-Hx6B7",
        "outputId": "05ef8643-baa5-439f-ba95-297fa2a1b692"
      },
      "execution_count": 20,
      "outputs": [
        {
          "output_type": "stream",
          "name": "stdout",
          "text": [
            "4\n"
          ]
        }
      ]
    },
    {
      "cell_type": "markdown",
      "source": [
        "Looping Array Elements"
      ],
      "metadata": {
        "id": "r3tg43P_yFGT"
      }
    },
    {
      "cell_type": "code",
      "source": [
        "animals = [\"monkey\",\"cat\", \"dog\", \"fish\"]\n",
        "\n",
        "for x in animals:\n",
        "  print(x)"
      ],
      "metadata": {
        "colab": {
          "base_uri": "https://localhost:8080/"
        },
        "id": "_b4kU-xfyDRF",
        "outputId": "7a46f6c1-103c-433f-b866-6ba5a1be67f3"
      },
      "execution_count": 22,
      "outputs": [
        {
          "output_type": "stream",
          "name": "stdout",
          "text": [
            "monkey\n",
            "cat\n",
            "dog\n",
            "fish\n"
          ]
        }
      ]
    },
    {
      "cell_type": "markdown",
      "source": [
        "Adding Elements in the Array"
      ],
      "metadata": {
        "id": "r0YXGAe9y0AI"
      }
    },
    {
      "cell_type": "code",
      "source": [
        "animals = [\"monkey\",\"cat\", \"dog\", \"fish\"]\n",
        "animals.append(\"bird\")\n",
        "print(animals)"
      ],
      "metadata": {
        "colab": {
          "base_uri": "https://localhost:8080/"
        },
        "id": "mf5P5Yi-y2sr",
        "outputId": "cd8b96b9-5d85-4975-aa53-2d41dac7f97b"
      },
      "execution_count": 26,
      "outputs": [
        {
          "output_type": "stream",
          "name": "stdout",
          "text": [
            "['monkey', 'cat', 'dog', 'fish', 'bird']\n"
          ]
        }
      ]
    },
    {
      "cell_type": "markdown",
      "source": [
        "Remove an Item in the Array List"
      ],
      "metadata": {
        "id": "mH_odfq5zjLG"
      }
    },
    {
      "cell_type": "code",
      "source": [
        "animals = [\"monkey\",\"cat\", \"dog\", \"fish\"]\n",
        "animals.pop(2)\n",
        "print(animals)"
      ],
      "metadata": {
        "colab": {
          "base_uri": "https://localhost:8080/"
        },
        "id": "fqS8gexkzcFo",
        "outputId": "ec330517-eb0c-4fbc-cc63-f569b83dd27e"
      },
      "execution_count": 28,
      "outputs": [
        {
          "output_type": "stream",
          "name": "stdout",
          "text": [
            "['monkey', 'cat', 'fish']\n"
          ]
        }
      ]
    },
    {
      "cell_type": "markdown",
      "source": [
        "Inserting Elements to an Array"
      ],
      "metadata": {
        "id": "n7UqH5kN0ZUI"
      }
    },
    {
      "cell_type": "code",
      "source": [
        "animals = [\"monkey\",\"cat\", \"dog\", \"fish\"]\n",
        "animals.insert(1, \"bird\")\n",
        "print(animals)"
      ],
      "metadata": {
        "colab": {
          "base_uri": "https://localhost:8080/"
        },
        "id": "3LuFgmyH0e1A",
        "outputId": "f92db505-82a9-4672-fcbe-07d9e14a1eda"
      },
      "execution_count": 29,
      "outputs": [
        {
          "output_type": "stream",
          "name": "stdout",
          "text": [
            "['monkey', 'bird', 'cat', 'dog', 'fish']\n"
          ]
        }
      ]
    },
    {
      "cell_type": "markdown",
      "source": [
        "# Activity / Task"
      ],
      "metadata": {
        "id": "ZgjJoc_e32Fy"
      }
    },
    {
      "cell_type": "markdown",
      "source": [
        "Remove an Item with a Specified Index in an Array\n",
        "\n"
      ],
      "metadata": {
        "id": "hYhEWfn41AKZ"
      }
    },
    {
      "cell_type": "code",
      "source": [
        "animals = [\"monkey\",\"cat\", \"dog\", \"fish\"]\n",
        "animals.pop(0)\n",
        "print(animals)"
      ],
      "metadata": {
        "colab": {
          "base_uri": "https://localhost:8080/"
        },
        "id": "iUlTgyrV0opL",
        "outputId": "70d09c66-1e94-4702-cdc2-c25040401ad9"
      },
      "execution_count": 36,
      "outputs": [
        {
          "output_type": "stream",
          "name": "stdout",
          "text": [
            "['cat', 'dog', 'fish']\n"
          ]
        }
      ]
    },
    {
      "cell_type": "markdown",
      "source": [
        "Remove an Item with a Specified Value in an Array"
      ],
      "metadata": {
        "id": "7VEVHOZl2VBU"
      }
    },
    {
      "cell_type": "code",
      "source": [
        "animals = [\"monkey\",\"cat\", \"dog\", \"fish\"]\n",
        "animals.remove(\"fish\")\n",
        "print(animals)"
      ],
      "metadata": {
        "colab": {
          "base_uri": "https://localhost:8080/"
        },
        "id": "XgFE0gBC2Unt",
        "outputId": "395184c8-941d-4ea1-a89b-a1c47df89bf0"
      },
      "execution_count": 35,
      "outputs": [
        {
          "output_type": "stream",
          "name": "stdout",
          "text": [
            "['monkey', 'cat', 'dog']\n"
          ]
        }
      ]
    },
    {
      "cell_type": "markdown",
      "source": [
        "Reverse the Order of Items in an Array"
      ],
      "metadata": {
        "id": "sqHBZmPU1fQq"
      }
    },
    {
      "cell_type": "code",
      "source": [
        "animals = [\"monkey\",\"cat\", \"dog\", \"fish\"]\n",
        "animals.reverse()\n",
        "print(animals)"
      ],
      "metadata": {
        "colab": {
          "base_uri": "https://localhost:8080/"
        },
        "id": "ZMiuI2Bl1j0Q",
        "outputId": "cc8cc2e6-e599-450c-e088-31d15edc297d"
      },
      "execution_count": 31,
      "outputs": [
        {
          "output_type": "stream",
          "name": "stdout",
          "text": [
            "['fish', 'dog', 'cat', 'monkey']\n"
          ]
        }
      ]
    }
  ]
}