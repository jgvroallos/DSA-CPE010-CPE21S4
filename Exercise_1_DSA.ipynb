{
  "nbformat": 4,
  "nbformat_minor": 0,
  "metadata": {
    "colab": {
      "provenance": [],
      "toc_visible": true,
      "authorship_tag": "ABX9TyMqCmYswJoB6nrI1PQZqOZz",
      "include_colab_link": true
    },
    "kernelspec": {
      "name": "python3",
      "display_name": "Python 3"
    },
    "language_info": {
      "name": "python"
    }
  },
  "cells": [
    {
      "cell_type": "markdown",
      "metadata": {
        "id": "view-in-github",
        "colab_type": "text"
      },
      "source": [
        "<a href=\"https://colab.research.google.com/github/jgvroallos/DSA-CPE010-CPE21S4/blob/main/Exercise_1_DSA.ipynb\" target=\"_parent\"><img src=\"https://colab.research.google.com/assets/colab-badge.svg\" alt=\"Open In Colab\"/></a>"
      ]
    },
    {
      "cell_type": "markdown",
      "source": [
        "# Exercise No.1: Class Constructor and Method"
      ],
      "metadata": {
        "id": "8pqvqNhdbREV"
      }
    },
    {
      "cell_type": "code",
      "execution_count": 16,
      "metadata": {
        "colab": {
          "base_uri": "https://localhost:8080/"
        },
        "id": "4iiXe1aubO6o",
        "outputId": "14cabd50-6179-45d8-cb8b-fdde5aba81b3"
      },
      "outputs": [
        {
          "output_type": "stream",
          "name": "stdout",
          "text": [
            "Enter length: 5\n",
            "Enter width: 5\n",
            "Area of rectangle: 25\n"
          ]
        }
      ],
      "source": [
        "class Rectangle:\n",
        " def __init__(self, len_comp, wid_comp):\n",
        "  self.len_comp = len_comp\n",
        "  self.wid_comp = wid_comp\n",
        "\n",
        " def area(self):\n",
        "  return self.len_comp * self.wid_comp\n",
        "\n",
        "len_input = int(input(\"Enter length: \"))\n",
        "wid_input = int(input(\"Enter width: \"))\n",
        "\n",
        "compute = Rectangle(len_input, wid_input)\n",
        "print(\"Area of rectangle:\", compute.area())"
      ]
    },
    {
      "cell_type": "code",
      "source": [],
      "metadata": {
        "id": "QBOUmV5Eo2WK"
      },
      "execution_count": null,
      "outputs": []
    }
  ]
}