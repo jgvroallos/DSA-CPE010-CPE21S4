{
  "nbformat": 4,
  "nbformat_minor": 0,
  "metadata": {
    "colab": {
      "provenance": [],
      "authorship_tag": "ABX9TyPjcmht21baPuSiguKLMgyy",
      "include_colab_link": true
    },
    "kernelspec": {
      "name": "python3",
      "display_name": "Python 3"
    },
    "language_info": {
      "name": "python"
    }
  },
  "cells": [
    {
      "cell_type": "markdown",
      "metadata": {
        "id": "view-in-github",
        "colab_type": "text"
      },
      "source": [
        "<a href=\"https://colab.research.google.com/github/jgvroallos/DSA-CPE010-CPE21S4/blob/main/Exercise_2_DSA.ipynb\" target=\"_parent\"><img src=\"https://colab.research.google.com/assets/colab-badge.svg\" alt=\"Open In Colab\"/></a>"
      ]
    },
    {
      "cell_type": "markdown",
      "source": [
        "# Exercise No. 2"
      ],
      "metadata": {
        "id": "IjptTiqKwC5x"
      }
    },
    {
      "cell_type": "markdown",
      "source": [
        "No Subclasses"
      ],
      "metadata": {
        "id": "l63vU4DrDIXZ"
      }
    },
    {
      "cell_type": "code",
      "execution_count": 12,
      "metadata": {
        "colab": {
          "base_uri": "https://localhost:8080/"
        },
        "id": "X4J2vRmHvDHb",
        "outputId": "8f448a5f-c070-4b2f-ffad-ca19e75b2dd6"
      },
      "outputs": [
        {
          "output_type": "stream",
          "name": "stdout",
          "text": [
            "Area of a Rectangle: 20\n",
            "Area of a Square: 25\n",
            "Area of a Triangle: 31.5\n"
          ]
        }
      ],
      "source": [
        "class Shapes():\n",
        " def __init__ (self, length = 0, width = 0, side = 0, base = 0, height = 0):\n",
        "  self.length = length\n",
        "  self.width = width\n",
        "  self.side = side\n",
        "  self.base = base\n",
        "  self.height = height\n",
        "\n",
        " def Area_Rectangle(self):\n",
        "  return self.length * self.width\n",
        "\n",
        " def Area_Square(self):\n",
        "  return self.side ** 2\n",
        "\n",
        " def Area_Triangle(self):\n",
        "  return 0.5 * self.base * self.height\n",
        "\n",
        "Rectangle = Shapes(length = 5, width = 4)\n",
        "Square = Shapes(side = 5)\n",
        "Triangle = Shapes(base = 7, height = 9)\n",
        "\n",
        "print(\"Area of a Rectangle:\", Rectangle.Area_Rectangle())\n",
        "print(\"Area of a Square:\", Square.Area_Square())\n",
        "print(\"Area of a Triangle:\", Triangle.Area_Triangle())"
      ]
    },
    {
      "cell_type": "markdown",
      "source": [
        "With Subclasses"
      ],
      "metadata": {
        "id": "GShqZ-1IDMAE"
      }
    },
    {
      "cell_type": "code",
      "source": [
        "class Shapes():\n",
        " def __init__ (self, length = 0, width = 0, side = 0, base = 0, height = 0):\n",
        "  self.length = length\n",
        "  self.width = width\n",
        "  self.side = side\n",
        "  self.base = base\n",
        "  self.height = height\n",
        "\n",
        "class Rectangle(Shapes):\n",
        " def Area_Rectangle(self):\n",
        "  return self.length * self.width\n",
        "\n",
        "class Square(Shapes):\n",
        " def Area_Square(self):\n",
        "  return self.side ** 2\n",
        "\n",
        "class Triangle(Shapes):\n",
        " def Area_Triangle(self):\n",
        "  return 0.5 * self.base * self.height\n",
        "\n",
        "rectangle = Rectangle(length = 5, width = 4)\n",
        "square = Square(side = 5)\n",
        "triangle = Triangle(base = 7, height = 9)\n",
        "\n",
        "print(\"Area of a Rectangle:\", rectangle.Area_Rectangle())\n",
        "print(\"Area of a Square:\", square.Area_Square())\n",
        "print(\"Area of a Triangle:\", triangle.Area_Triangle())"
      ],
      "metadata": {
        "colab": {
          "base_uri": "https://localhost:8080/"
        },
        "id": "1l7cffXBAFai",
        "outputId": "9bd5306b-dcac-4592-c019-5c55f76c1b19"
      },
      "execution_count": 15,
      "outputs": [
        {
          "output_type": "stream",
          "name": "stdout",
          "text": [
            "Area of a Rectangle: 20\n",
            "Area of a Square: 25\n",
            "Area of a Triangle: 31.5\n"
          ]
        }
      ]
    }
  ]
}